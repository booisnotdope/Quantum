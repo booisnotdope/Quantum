{
 "cells": [
  {
   "cell_type": "markdown",
   "metadata": {},
   "source": [
    "# Fourier Transform and Quantum Computing\n",
    "## Fourier Series\n",
    "Functions can be described as a summation of sinusoidal functions. More specifically, different frequencies of sines and cosines all with different amplitudes can estimate a given function over a given period, T. \n",
    "$$\n",
    "s_n(x) = A_0 + \\sum_{n=1}^N(A_n cos(2\\pi\\frac{n}{T}x) + B_n sin(2\\pi\\frac{n}{T}x))\n",
    "$$\n",
    "Cosine and sine in their polar form are $\\frac{e^{i\\theta}+e^{-i\\theta}}{2}$ and $\\frac{e^{i\\theta}-e^{-i\\theta}}{2i}$ respectively. Replacing the summation above with these new definition, we get a new summation where we will be using the rest of the derivation.\n",
    "$$\n",
    "s_n(x) = \\sum_{n=-N}^NC_ne^{i2\\pi\\frac{n}{T}x}\n",
    "$$\n",
    "## Sampling\n",
    "Most audio is captured at around 44.1kHz or 48kHz. This means every second, we measure the amplitude of audio 44100 times. The wav file contains 44100 points of data for one second, which we will analyze in this notebook. The csv file contains the time the amplitude it was recorded and the amplitude measured in the format: \"time\", \"amplitude\".\n",
    "```\n",
    "0.00000,-0.46933\n",
    "0.00002,-0.46011\n",
    "0.00005,-0.44931\n",
    "0.00007,-0.41455\n",
    "0.00009,-0.38632\n",
    "0.00011,-0.34164\n",
    "...\n",
    "0.99995,0.12454\n",
    "0.99998,0.13571\n",
    "```\n",
    "To find the frequencies that make up the audio, we'll use the *discrete Fourier Transform* where $a_0=-0.46933$, $a_1=-0.46011$, ... and so on represent each data point's amplitude. Since there are 44100 points of data, we'll set $N=44100$. Each frequency, $\\phi$ will be defined as:\n",
    "$$\n",
    "\\phi_{k} = \\frac{1}{\\sqrt{N}}\\sum_{j=0}^{N-1}a_je^{2\\pi ijk/N}\n",
    "$$\n",
    "For example:\n",
    "$$\n",
    "\\phi_{0} = \\frac{1}{44100}(-0.46933e^{2\\pi i(0)(0)/44100}-0.46011e^{2\\pi i(1)(0)/44100}+...+0.13571e^{(44099)(0)(44100)})=-0.0973861\n",
    "$$\n",
    "$$\n",
    "\\phi_{1} = \\frac{1}{44100}(-0.46933e^{2\\pi i(0)(1)/44100}-0.46011e^{2\\pi i(1)(1)/44100}+...+0.13571e^{(44099)(1)(44100)})=−0.118737+0.136405i\n",
    "$$\n",
    "$$\n",
    "\\vdots\n",
    "$$\n",
    "$$\n",
    "\\phi_{44099} = \\frac{1}{44100}(-0.46933e^{2\\pi i(0)(44099)/44100}-0.46011e^{2\\pi i(1)(44099)/44100}+...+0.13571e^{(44099)(44099)(44100)})\n",
    "=−0.118737−0.136405i\n",
    "$$\n",
    "One thing to notice is that $\\phi_{1}=\\phi_{44099}^*$. This remain true such that $\\phi_{k}=\\phi_{N-k}^*$ for k = $1, 2, ... , N/2 - 1$ so $\\phi_{0}$ and $\\phi{N/2}$ are unique. Taking the norm and plotting the frequencies against amplitude results in a frequency spectrum. \n",
    "## Classical Computing\n",
    "Calculating one $\\phi_{k}$ requires summing N terms with N different $\\phi_{k}$, this computation becomes $O(N^2)$. Although this is polynomial time, which is better than some other problems out there such as Traveling Salseman, when analyzing large amounts of data this algorithm can become very slow. Another way to approach this problem is to think of it as a matrix-vector multiplication where $\\omega = e^{2\\pi i/N}$. The fourier transform becomes:\n",
    "$$\n",
    "\\phi_{k} = \\frac{1}{\\sqrt{N}}\\sum_{j=0}^{N-1}a_j\\omega^{jk}\n",
    "$$\n",
    "For example:\n",
    "$$\n",
    "\\phi_{0} = \\frac{1}{\\sqrt{N}}(a_0 + a_1 + a_2 + ... + a_{N-1}),\n",
    "$$\n",
    "$$\n",
    "\\phi_{1} = \\frac{1}{\\sqrt{N}}(a_0 + a_1\\omega +  a_2\\omega^2 + ... + a_{N-1}\\omega^{N-1}),\n",
    "$$\n",
    "$$\n",
    "\\phi_{2} = \\frac{1}{\\sqrt{N}}(a_0 + a_1\\omega^2 +  a_2\\omega^4 + ... + a_{N-1}\\omega^{2(N-1)}),\n",
    "$$\n",
    "$$\n",
    "\\vdots\n",
    "$$\n",
    "$$\n",
    "\\phi{k} = \\frac{1}{\\sqrt{N}}(a_0 + a_1\\omega^{N-1} +  a_2\\omega^{2(N-1)} + ... + a_{N-1}\\omega^{(N-1)^2})\n",
    "$$\n",
    "Writing the equations as a matrix results in:\n",
    "$$\n",
    "\\begin{pmatrix}\n",
    "    \\phi_{0}\\\\\n",
    "    \\phi_{1}\\\\\n",
    "    \\phi_{2}\\\\\n",
    "    \\vdots\\\\\n",
    "    \\phi_{N-1}\\\\\n",
    "\\end{pmatrix} = \n",
    "\\begin{pmatrix}\n",
    "    1 & 1 & 1 & \\cdots & 1 \\\\\n",
    "    1 & \\omega & \\omega^2 & \\cdots & \\omega^{N-1} \\\\\n",
    "    1 & \\omega^2 & \\omega^4 & \\cdots & \\omega^{2(N-1)} \\\\\n",
    "    \\vdots & \\vdots & \\vdots & \\ddots & \\vdots \\\\\n",
    "    1 & \\omega^{N-1} & \\omega^{2(N-1)} & \\cdots & \\omega{(N-1)^2}\n",
    "\\end{pmatrix}\n",
    "\\begin{pmatrix}\n",
    "    a_0 \\\\\n",
    "    a_1 \\\\\n",
    "    a_2 \\\\\n",
    "    \\vdots\\\\\n",
    "    a_{N-1}\n",
    "\\end{pmatrix}\n",
    "$$\n",
    "Although this is useful conceptually, the amount of operations are still the same, $O(N^2)$. There are some algorithms out there that have runtimes of $O(N\\log N)$ but biggest thing to note is that the $N$ x $N$ matrix is unitary.\n",
    "\n",
    "## Quantum Computing\n",
    "$$\n",
    "\\ket{\\psi} =\n",
    "\\begin{pmatrix}\n",
    "    a_0\\\\\n",
    "    a_1\\\\\n",
    "    a_2\\\\\n",
    "    \\vdots\\\\\n",
    "    a_{N-1}\n",
    "\\end{pmatrix} = \n",
    "a_0\\ket{0}+...+a_{N-1}\\ket{N-1}\n",
    "$$\n",
    "Say this describes a normalized quantum state, then applying a Fourier Transform results in another normalized quantum state\n",
    "$$\n",
    "\\ket{\\phi} =\n",
    "\\begin{pmatrix}\n",
    "    \\phi_0\\\\\n",
    "    \\phi_1\\\\\n",
    "    \\phi_2\\\\\n",
    "    \\vdots\\\\\n",
    "    \\phi_{N-1}\n",
    "\\end{pmatrix} = \n",
    "\\phi_0\\ket{0}+...+\\phi_{N-1}\\ket{N-1}\n",
    "$$\n",
    "Another way to say this is: $\\ket{\\phi}$ is the QFT of $\\ket{\\psi}$. Describing this as summations results in\n",
    "$$\n",
    "\\ket{\\psi}=\\sum_{j=0}^{N-1}a_j\\ket{j} \\rightarrow \\ket{\\phi} = \\sum_{k=0}^{N-1}\\phi_k\\ket{k} = \n",
    "\\frac{1}{\\sqrt{N}}\\sum_{k=0}^{N-1}\\sum_{j=0}^{N-1}a_je^{2\\pi ijk/N}\n",
    "$$\n",
    "Taking a look at the equation above, we notice $\\ket{j}$ transforms into the aforementioned Fourier Transform. This transforms our basis states to\n",
    "$$\n",
    "\\ket{j}\\rightarrow \\frac{1}{\\sqrt{N}}\\sum_{k=0}^{N-1}e^{2\\pi ijk/N}\\ket{k}\n",
    "$$\n",
    "The quantum Fourier Transform (QFT) acts on $n$ qubits which have amplitudes of $N = 2^n$. If we want to implement the quantum circuit using only single-qubit and two-qubit gates, we'll need to take a closer look atht the $\\ket{j}$ transformation. As of now, the runtime can vary from being slower and faster based on data size which defeats the purpose of a quantum computer. There is a better way of implementing QFT that takes only $O(\\log^2N)$ time which is an exponential increase form the classical approach.\n",
    "\n",
    "Consider $j$ as an $n$-bit binary number. We'll divide $j$ by $N$ to express it as a binary decimal. We'll similarly express k as an $n$-bit binary number.\n",
    "$$\n",
    "j=j_{n-1}j_{n-2}\\cdots j_1j_0=j_{n-1}2^{n-1}+j_{n-2}2^{n-2}+\\cdots+j_1 2+j_0\n",
    "$$\n",
    "$$\n",
    "\\frac{j}{N} = \\frac{j_{n-1}2^{n-1}+j_{n-2}2^{n-2}+\\cdots+j_1 2+j_0}{2^n} = 0.j_{n-1}j_{n-2}\\cdots j_1j_0\n",
    "$$\n",
    "$$\n",
    "k=k_{n-1}k_{n-2}\\cdots k_1k_0 = k_{n-1}2^{n-1}+k_{n-2}2^{n-2}+\\cdots k_1 2+k_0\n",
    "$$\n",
    "Plugging these new definitions of $j$ an $k$ into the exponential in the transformation yields\n",
    "$$\n",
    "e^{2\\pi ijk/N} = e^{2\\pi i(j/N)k} = e^{2\\pi i (0.j_{n-1}j_{n-2}\\cdots j_1j_0)(k_{n-1}2^{n-1}+k_{n-2}2^{n-2}+\\cdots+k_1 2+k_0)}\n",
    "$$\n",
    "$$\n",
    "=e^{2\\pi i (0.j_{n-1}j_{n-2}\\cdots j_1j_0)k_{n-1}2^{n-1}} e^{2\\pi i (0.j_{n-1}j_{n-2}\\cdots j_1j_0)k_{n-2}2^{n-2}}\\cdots \\times\n",
    "e^{2\\pi i (0.j_{n-1}j_{n-2}\\cdots j_1j_0)k_1 2} e^{2\\pi i (0.j_{n-1}j_{n-2}\\cdots j_1j_0)k_0}\n",
    "$$\n",
    "$$\n",
    "=e^{2\\pi i (j_{n-1}j_{n-2}\\cdots j_1.j_0)k_{n-1}} e^{2\\pi i (j_{n-1}j_{n-2}\\cdots j_2.j_1j_0)k_{n-2}}\\cdots \\times\n",
    "e^{2\\pi i (j_{n-1}.j_{n-2}\\cdots j_1j_0)k_1} e^{2\\pi i (0.j_{n-1}j_{n-2}\\cdots j_1j_0)k_0}\n",
    "$$\n",
    "Additionally, we can drop all the bits left of the binary point since all values in the form of $e^{2\\pi i m}$ for all integer values on $m$ is simply 1. Rewriting the exponential we get\n",
    "$$\n",
    "e^{2\\pi ijk/N} = e^{2\\pi i (0.j_0)k_{n-1}} e^{2\\pi i (0.j_1j_0)k_{n-2}}\\cdots \\times\n",
    "e^{2\\pi i (0.j_{n-2}\\cdots j_1j_0)k_1} e^{2\\pi i (0.j_{n-1}j_{n-2}\\cdots j_1j_0)k_0}\n",
    "$$\n",
    "Plugging the new definition of exponential into the $\\ket{j}$ Fourier Transformation, we get\n",
    "$$\n",
    "\\ket{j}\\rightarrow \\frac{1}{\\sqrt{N}}\\sum_{k=0}^{N-1}e^{2\\pi ijk/N}\\ket{k}\n",
    "$$\n",
    "$$\n",
    "=\\frac{1}{\\sqrt{N}}\\sum_{k=0}^{N-1}e^{2\\pi i (0.j_0)k_{n-1}} e^{2\\pi i (0.j_1j_0)k_{n-2}}\\cdots \\times\n",
    "e^{2\\pi i (0.j_{n-2}\\cdots j_1j_0)k_1} e^{2\\pi i (0.j_{n-1}j_{n-2}\\cdots j_1j_0)k_0}\\ket{k}\n",
    "$$\n",
    "As previously mentioned, $k$ is described as by $n$-bit binary number, each bit $k_{n-1},\\cdots, k_0$ sums to either 0 or 1. so this becomes\n",
    "$$\n",
    "\\frac{1}{\\sqrt{N}}\\sum_{k_{n-1}=0}^1 \\cdots \\sum_{k_0=0}^{1}e^{2\\pi i (0.j_0)k_{n-1}} e^{2\\pi i (0.j_1j_0)k_{n-2}}\\cdots \\times\n",
    "e^{2\\pi i (0.j_{n-2}\\cdots j_1j_0)k_1} e^{2\\pi i (0.j_{n-1}j_{n-2}\\cdots j_1j_0)k_0}\\ket{k_{n-1}\\cdots k_0}\n",
    "$$\n",
    "Breaking apart the $\\ket{k_{n-1}\\cdots k_0}$ into $\\ket{k_{n-1}} \\cdots \\ket{k_0}$, moving around the terms results in\n",
    "$$\n",
    "\\frac{1}{\\sqrt{N}}\\sum_{k_{n-1}=0}^1 \\cdots \\sum_{k_0=0}^{1}e^{2\\pi i (0.j_0)k_{n-1}}\\ket{k_{n-1}} e^{2\\pi i (0.j_1j_0)k_{n-2}}\\ket{k_{n-2}}\\cdots \\times e^{2\\pi i (0.j_{n-2}\\cdots j_1j_0)k_1}\\ket{k_1} e^{2\\pi i (0.j_{n-1}j_{n-2}\\cdots j_1j_0)k_0}\\ket{k_0}\n",
    "$$\n",
    "$$\n",
    "= \\frac{1}{\\sqrt{N}}\\sum_{k_{n-1}=0}^1 e^{2\\pi i (0.j_0)k_{n-1}}\\ket{k_{n-1}} \\sum_{k_{n-2}=0}^1e^{2\\pi i (0.j_1j_0)k_{n-2}}\\ket{k_{n-2}}\\cdots \\times \\sum_{k_1=0}^{1}e^{2\\pi i (0.j_{n-2}\\cdots j_1j_0)k_1}\\ket{k_1} \\sum_{k_0=0}^{1} e^{2\\pi i (0.j_{n-1}j_{n-2}\\cdots j_1j_0)k_0}\\ket{k_0}\n",
    "$$\n",
    "Taking advantage of $e^{2\\pi i m} = 1$, we get\n",
    "$$\n",
    "\\frac{1}{\\sqrt{N}}(\\ket{0} + e^{2\\pi i (0.j_0)}\\ket{1})(\\ket{0} + e^{2\\pi i (0.j_1j_0)}\\ket{1}) \\cdots (\\ket{0} + e^{2\\pi i (0.j_{n-2}\\cdots j_1j_0)}\\ket{1})(\\ket{0} + e^{2\\pi i (0.j_{n-1}j_{n-2}\\cdots j_1j_0)}\\ket{1})\n",
    "$$\n",
    "Finally since $\\sqrt{N} = \\sqrt{2^n} = (\\sqrt{2})^n$\n",
    "$$\n",
    "\\frac{1}{\\sqrt{2}}(\\ket{0} + e^{2\\pi i (0.j_0)}\\ket{1})\n",
    "\\frac{1}{\\sqrt{2}}(\\ket{0} + e^{2\\pi i (0.j_1j_0)}\\ket{1}) \\cdots \n",
    "\\frac{1}{\\sqrt{2}}(\\ket{0} + e^{2\\pi i (0.j_{n-2}\\cdots j_1j_0)}\\ket{1})\n",
    "\\frac{1}{\\sqrt{2}}(\\ket{0} + e^{2\\pi i (0.j_{n-1}j_{n-2}\\cdots j_1j_0)}\\ket{1})\n",
    "$$\n",
    "This is just restating the definition of the QFT but in binary. If we can make a quantum circuit that converts $\\ket{j} = \\ket{j_{n-1}\\cdots j_0}$ to the equation we just derived, we'll have created a quantum circuti for the QFT.\n",
    "\n",
    "Shifing gears a litte, consider a Hadamard gate that applied onto $\\ket{j_{n-1}}$\n",
    "$$\n",
    "H\\ket{j_{n-1}} = \\frac{1}{\\sqrt{2}}(\\ket{0}+(-1)^{j_{n-1}}\\ket{1}) = \n",
    "\\frac{1}{\\sqrt{2}}(\\ket{0}+(e^{i\\pi})^{j_{n-1}}\\ket{1}) = \n",
    "\\frac{1}{\\sqrt{2}}(\\ket{0}+(e^{2\\pi i})^{j_{n-1}/2}\\ket{1}) = \n",
    "\\frac{1}{\\sqrt{2}}(\\ket{0}+(e^{2\\pi i})^{0.j_{n-1}}\\ket{1})\n",
    "$$\n",
    "Next consider a single cubit gate that rotates about $z$-axis of the Bloch sphere by $2\\pi/2^r$, which we call $R_r$. \n",
    "$$\n",
    "R_r\\ket{0} = \\ket{0}\n",
    "$$\n",
    "$$\n",
    "R_r\\ket{1} = e^{2\\pi/2^r}\\ket{1}\n",
    "$$\n",
    "After appling a Hadamard gate, appling this new rotation gate results in one of the terms of the newly definied QFT. Appling this new chain of gates for each qubit, we're able to apply the Fourier transform using a quantum circuit. Note that the order of outputs are reversed, so at the end of the ciruit, we apply SWAP gates such that we swap the first and the last qubit, the second with the second last and so on. "
   ]
  },
  {
   "cell_type": "markdown",
   "metadata": {},
   "source": [
    "Install these packages if you haven't already."
   ]
  },
  {
   "cell_type": "code",
   "execution_count": null,
   "metadata": {},
   "outputs": [],
   "source": [
    "%pip install qiskit[visualization]==1.0.2\n",
    "%pip install qiskit-ibm-runtime\n",
    "%pip install qiskit-aer\n",
    "%pip install graphviz\n",
    "%pip install qiskit-serverless -U\n",
    "%pip install qiskit-transpiler-service -U"
   ]
  },
  {
   "cell_type": "markdown",
   "metadata": {},
   "source": [
    "Make sure to create a textfile of your token. Alternatively, replace the variable *token* with your token"
   ]
  },
  {
   "cell_type": "code",
   "execution_count": 1,
   "metadata": {},
   "outputs": [
    {
     "name": "stdout",
     "output_type": "stream",
     "text": [
      "env: QXToken=token\n"
     ]
    }
   ],
   "source": [
    "token = open(\"../token.txt\")\n",
    "%set_env QXToken=token"
   ]
  },
  {
   "cell_type": "markdown",
   "metadata": {},
   "source": [
    "The imports needed to run the rest of the code"
   ]
  },
  {
   "cell_type": "code",
   "execution_count": 19,
   "metadata": {},
   "outputs": [],
   "source": [
    "from qiskit import QuantumCircuit, transpile\n",
    "from qiskit_ibm_runtime.fake_provider import FakeAuckland\n",
    "from qiskit_aer import AerSimulator\n",
    "import matplotlib.pyplot as plt\n",
    "import csv, math, librosa, numpy"
   ]
  },
  {
   "cell_type": "markdown",
   "metadata": {},
   "source": [
    "This is sample code to show how a quantum circuit is used to calculate fourier transform"
   ]
  },
  {
   "cell_type": "code",
   "execution_count": 3,
   "metadata": {},
   "outputs": [
    {
     "data": {
      "image/png": "[encoded data removed]",
      "text/plain": [
       "<Figure size 1541.66x367.889 with 1 Axes>"
      ]
     },
     "execution_count": 3,
     "metadata": {},
     "output_type": "execute_result"
    }
   ],
   "source": [
    "n=4\n",
    "# Create a quantum circuit.\n",
    "qc = QuantumCircuit(n)\n",
    "# Iterate through each target qubit from (n-1) to 0.\n",
    "for target in range(n-1,-1,-1):\n",
    "# Apply the Hadamard gate.\n",
    "    qc.h(target)\n",
    "# Iterate through the control qubits from (target-1) to 0.\n",
    "    for control in range(target-1,-1,-1):\n",
    "    # Calculate \"r,\" the rotation by 2*pi/2**r.\n",
    "        r = target - control + 1\n",
    "# Apply the controlled phase/rotation.\n",
    "        qc.cp(2*math.pi/2**r, control, target)\n",
    "# Swap qubits.\n",
    "for qubit in range(n//2):\n",
    "    qc.swap(qubit, n - qubit - 1)\n",
    "# Draw the circuit.\n",
    "qc.draw(\"mpl\")\n"
   ]
  },
  {
   "cell_type": "code",
   "execution_count": 4,
   "metadata": {},
   "outputs": [],
   "source": [
    "\n",
    "def normalize(data):\n",
    "    '''\n",
    "    Given an array of data, normalize the data such that the sum of the squared elements = 1\n",
    "    Parameters:\n",
    "        data - The array of values to be normalized\n",
    "    Return:\n",
    "        returns a normalized list of values\n",
    "    '''\n",
    "    sum_of_squares = sum(x**2 for x in data)\n",
    "    norm_factor = math.sqrt(sum_of_squares)\n",
    "    return [x / norm_factor for x in data]"
   ]
  },
  {
   "cell_type": "code",
   "execution_count": 20,
   "metadata": {},
   "outputs": [],
   "source": [
    "quantum_data = []\n",
    "\n",
    "filename = \"g major chord.csv\"\n",
    "with open(filename, mode='r') as file:\n",
    "    csv_reader = csv.reader(file)\n",
    "    for i, row in enumerate(csv_reader):\n",
    "        if i >= 2**15:  # Only take the first 32,768 data points \n",
    "            break\n",
    "        quantum_data.append(float(row[1]))\n",
    "normalized_data = normalize(quantum_data)"
   ]
  },
  {
   "cell_type": "code",
   "execution_count": 21,
   "metadata": {},
   "outputs": [
    {
     "data": {
      "text/plain": [
       "<qiskit.circuit.instructionset.InstructionSet at 0x16b96a338e0>"
      ]
     },
     "execution_count": 21,
     "metadata": {},
     "output_type": "execute_result"
    }
   ],
   "source": [
    "# Step 3: Prepare Quantum Circuit\n",
    "num_qubits = int(math.ceil(math.log2(len(quantum_data))))\n",
    "qc = QuantumCircuit(num_qubits)\n",
    "\n",
    "# Initialize the quantum state with the sound data\n",
    "qc.initialize(normalized_data[:2**15], qc.qubits) "
   ]
  },
  {
   "cell_type": "code",
   "execution_count": 22,
   "metadata": {},
   "outputs": [],
   "source": [
    "for target in range(num_qubits-1,-1,-1):\n",
    "# Apply the Hadamard gate.\n",
    "    qc.h(target)\n",
    "# Iterate through the control qubits from (target-1) to 0.\n",
    "    for control in range(target-1,-1,-1):\n",
    "    # Calculate \"r,\" the rotation by 2*pi/2**r.\n",
    "        r = target - control + 1\n",
    "# Apply the controlled phase/rotation.\n",
    "        qc.cp(2*math.pi/2**r, control, target)\n",
    "# Swap qubits.\n",
    "for qubit in range(num_qubits//2):\n",
    "    qc.swap(qubit, num_qubits - qubit - 1)\n",
    "# Draw the circuit.\n",
    "qc.draw(\"mpl\")\n",
    "\n",
    "# Step 5: Measure and Extract Results\n",
    "qc.measure_all()\n",
    "\n",
    "# Execute the quantum circuit\n",
    "\n",
    "simulator = AerSimulator()\n",
    "compiled_circuit = transpile(qc, simulator)\n",
    "job = simulator.run(compiled_circuit, shots=1024)\n",
    "result = job.result()\n",
    "counts = result.get_counts(compiled_circuit)\n",
    "\n",
    "frequencies = numpy.array([counts.get(format(i, f'0{num_qubits}b'), 0) for i in range(len(quantum_data))])\n",
    "frequencies = frequencies / numpy.sum(frequencies)\n"
   ]
  },
  {
   "cell_type": "code",
   "execution_count": 23,
   "metadata": {},
   "outputs": [],
   "source": [
    "classical_data = []\n",
    "with open(filename, mode='r') as file:\n",
    "    csv_reader = csv.reader(file)\n",
    "    for i, row in enumerate(csv_reader):\n",
    "        if i >= 2**15:  # Only take the first 32,768 data points \n",
    "            break\n",
    "        classical_data.append(float(row[1]))\n",
    "classical_data = normalize(classical_data)\n",
    "\n",
    "classical_dft = numpy.fft.fft(classical_data)\n",
    "classical_magnitudes = numpy.abs(classical_dft)**2\n",
    "classical_magnitudes /= numpy.sum(classical_magnitudes)  # Normalize"
   ]
  },
  {
   "cell_type": "code",
   "execution_count": 24,
   "metadata": {},
   "outputs": [
    {
     "data": {
      "image/png": "[encoded data removed]",
      "text/plain": [
       "<Figure size 640x480 with 1 Axes>"
      ]
     },
     "metadata": {},
     "output_type": "display_data"
    },
    {
     "data": {
      "text/plain": [
       "(0.0, 999.0)"
      ]
     },
     "execution_count": 24,
     "metadata": {},
     "output_type": "execute_result"
    },
    {
     "data": {
      "image/png": "[encoded data removed]",
      "text/plain": [
       "<Figure size 640x480 with 1 Axes>"
      ]
     },
     "metadata": {},
     "output_type": "display_data"
    }
   ],
   "source": [
    "frequency_limit = 1000\n",
    "\n",
    "\n",
    "# Plot the frequencies\n",
    "plt.bar(range(len(frequencies)), frequencies)\n",
    "plt.xlabel('Frequency')\n",
    "plt.ylabel('Magnitude')\n",
    "plt.title('Quantum Fourier Transform (QFT)')\n",
    "plt.xlim(0, frequency_limit - 1)\n",
    "plt.show()\n",
    "\n",
    "\n",
    "plt.bar(range(len(classical_magnitudes)), classical_magnitudes)\n",
    "plt.xlabel('Frequency')\n",
    "plt.ylabel('Magnitude')\n",
    "plt.title('Classical Discrete Fourier Transform (DFT)')\n",
    "plt.xlim(0, frequency_limit - 1)\n"
   ]
  }
 ],
 "metadata": {
  "kernelspec": {
   "display_name": "Python 3",
   "language": "python",
   "name": "python3"
  },
  "language_info": {
   "codemirror_mode": {
    "name": "ipython",
    "version": 3
   },
   "file_extension": ".py",
   "mimetype": "text/x-python",
   "name": "python",
   "nbconvert_exporter": "python",
   "pygments_lexer": "ipython3",
   "version": "3.11.1"
  }
 },
 "nbformat": 4,
 "nbformat_minor": 2
}
